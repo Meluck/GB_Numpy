{
 "cells": [
  {
   "cell_type": "code",
   "execution_count": 2,
   "metadata": {},
   "outputs": [],
   "source": [
    "import numpy as np\n",
    "import pandas as pd"
   ]
  },
  {
   "cell_type": "code",
   "execution_count": 3,
   "metadata": {},
   "outputs": [
    {
     "name": "stdout",
     "output_type": "stream",
     "text": [
      "   author_id author_name\n",
      "0          1    Тургенев\n",
      "1          2       Чехов\n",
      "2          3  Островский\n",
      "   author_id         book_title  price\n",
      "0          1        Отцы и дети    450\n",
      "1          1              Рудин    300\n",
      "2          1  Дворянское гнездо    350\n",
      "3          2   Толстый и тонкий    500\n",
      "4          2    Дама с собачкой    450\n",
      "authors_price = \n",
      "   author_id author_name            book_title  price\n",
      "0          1    Тургенев           Отцы и дети    450\n",
      "1          1    Тургенев                 Рудин    300\n",
      "2          1    Тургенев     Дворянское гнездо    350\n",
      "3          2       Чехов      Толстый и тонкий    500\n",
      "4          2       Чехов       Дама с собачкой    450\n",
      "5          3  Островский                 Гроза    370\n",
      "6          3  Островский  Талантф и поклонники    290\n",
      "top5 =\n",
      "   author_id author_name            book_title  price\n",
      "0          2       Чехов      Толстый и тонкий    500\n",
      "1          3  Островский  Талантф и поклонники    290\n",
      "2          1    Тургенев                 Рудин    300\n",
      "3          1    Тургенев           Отцы и дети    450\n",
      "4          1    Тургенев     Дворянское гнездо    350\n"
     ]
    }
   ],
   "source": [
    "# Задание 1\n",
    "# Импортируйте библиотеку Pandas и дайте ей псевдоним pd. \n",
    "# Создайте датафрейм authors со столбцами author_id и author_name, \n",
    "# в которых соответственно содержатся данные: [1, 2, 3] и \n",
    "# ['Тургенев', 'Чехов', 'Островский'].\n",
    "# Затем создайте датафрейм book cо столбцами author_id, \n",
    "# book_title и price, в которых соответственно содержатся данные:  \n",
    "# [1, 1, 1, 2, 2, 3, 3],\n",
    "# ['Отцы и дети', 'Рудин', 'Дворянское гнездо', 'Толстый и тонкий', \n",
    "# 'Дама с собачкой', 'Гроза', 'Таланты и поклонники'],\n",
    "# [450, 300, 350, 500, 450, 370, 290].\n",
    "\n",
    "\n",
    "\n",
    "authors = pd.DataFrame(data={'author_id': [1, 2, 3],\n",
    "                             'author_name': ['Тургенев', 'Чехов', 'Островский']})\n",
    "\n",
    "book = pd.DataFrame(data={'author_id': [1, 1, 1, 2, 2, 3, 3],\n",
    "                          'book_title': ['Отцы и дети',\n",
    "                                        'Рудин',\n",
    "                                        'Дворянское гнездо',\n",
    "                                        'Толстый и тонкий',\n",
    "                                        'Дама с собачкой',\n",
    "                                        'Гроза',\n",
    "                                        'Талантф и поклонники'],\n",
    "                          'price': [450,\n",
    "                                         300,\n",
    "                                         350,\n",
    "                                         500,\n",
    "                                         450,\n",
    "                                         370,\n",
    "                                         290]\n",
    "                          }\n",
    "                    )\n",
    "\n",
    "print(authors.head())\n",
    "print(book.head())\n",
    "\n",
    "# Задание 2\n",
    "# Получите датафрейм authors_price, соединив датафреймы\n",
    "# authors и books по полю author_id.\n",
    "\n",
    "authors_price = pd.merge(authors, book, on='author_id', how='inner')\n",
    "print(f'authors_price = \\n{authors_price}')\n",
    "\n",
    "# Задание 3\n",
    "# Создайте датафрейм top5, в котором содержатся\n",
    "# строки из authors_price с пятью самыми дорогими книгами.\n",
    "\n",
    "top5 = authors_price.sort_values(by='book_title', ascending=False, ignore_index=True).iloc[:5]\n",
    "print(f'top5 =\\n{top5}')\n"
   ]
  },
  {
   "cell_type": "markdown",
   "metadata": {},
   "source": [
    "Задание 4\n",
    "Создайте датафрейм authors_stat на основе информации из authors_price.\n",
    "В датафрейме authors_stat должны быть четыре столбца:\n",
    "author_name, min_price, max_price и mean_price,\n",
    "в которых должны содержаться соответственно имя автора,\n",
    "минимальная, максимальная и средняя цена на книги этого автора."
   ]
  },
  {
   "cell_type": "code",
   "execution_count": 4,
   "metadata": {},
   "outputs": [
    {
     "data": {
      "text/html": [
       "<div>\n",
       "<style scoped>\n",
       "    .dataframe tbody tr th:only-of-type {\n",
       "        vertical-align: middle;\n",
       "    }\n",
       "\n",
       "    .dataframe tbody tr th {\n",
       "        vertical-align: top;\n",
       "    }\n",
       "\n",
       "    .dataframe thead th {\n",
       "        text-align: right;\n",
       "    }\n",
       "</style>\n",
       "<table border=\"1\" class=\"dataframe\">\n",
       "  <thead>\n",
       "    <tr style=\"text-align: right;\">\n",
       "      <th></th>\n",
       "      <th>author_name</th>\n",
       "      <th>min</th>\n",
       "      <th>max</th>\n",
       "      <th>mean</th>\n",
       "    </tr>\n",
       "  </thead>\n",
       "  <tbody>\n",
       "    <tr>\n",
       "      <th>0</th>\n",
       "      <td>Тургенев</td>\n",
       "      <td>300</td>\n",
       "      <td>450</td>\n",
       "      <td>366.666667</td>\n",
       "    </tr>\n",
       "    <tr>\n",
       "      <th>1</th>\n",
       "      <td>Чехов</td>\n",
       "      <td>450</td>\n",
       "      <td>500</td>\n",
       "      <td>475.000000</td>\n",
       "    </tr>\n",
       "    <tr>\n",
       "      <th>2</th>\n",
       "      <td>Островский</td>\n",
       "      <td>290</td>\n",
       "      <td>370</td>\n",
       "      <td>330.000000</td>\n",
       "    </tr>\n",
       "  </tbody>\n",
       "</table>\n",
       "</div>"
      ],
      "text/plain": [
       "  author_name  min  max        mean\n",
       "0    Тургенев  300  450  366.666667\n",
       "1       Чехов  450  500  475.000000\n",
       "2  Островский  290  370  330.000000"
      ]
     },
     "execution_count": 4,
     "metadata": {},
     "output_type": "execute_result"
    }
   ],
   "source": [
    "stat_lst = []\n",
    "for author_id in range(authors.shape[0]): \n",
    "    author_loc = authors_price.loc[authors_price.author_name == authors.iloc[author_id].values[1], 'price']\n",
    "    min_val = author_loc.min()\n",
    "    max_val = author_loc.max()\n",
    "    mean_val = author_loc.mean()\n",
    "    stat_lst.append([authors.loc[author_id][1], min_val, max_val, mean_val])\n",
    "\n",
    "authors_stat = pd.DataFrame(stat_lst, columns= ['author_name', 'min', 'max', 'mean'])\n",
    "authors_stat"
   ]
  },
  {
   "cell_type": "markdown",
   "metadata": {},
   "source": [
    "Задание 5**\n",
    "Создайте новый столбец в датафрейме authors_price под названием cover, в нем будут располагаться данные о том, какая обложка у данной книги - твердая или мягкая. В этот столбец поместите данные из следующего списка:\n",
    "['твердая', 'мягкая', 'мягкая', 'твердая', 'твердая', 'мягкая', 'мягкая'].\n",
    "Просмотрите документацию по функции pd.pivot_table с помощью вопросительного знака.Для каждого автора посчитайте суммарную стоимость книг в твердой и мягкой обложке. Используйте для этого функцию pd.pivot_table. При этом столбцы должны называться \"твердая\" и \"мягкая\", а индексами должны быть фамилии авторов. Пропущенные значения стоимостей заполните нулями, при необходимости загрузите библиотеку Numpy.\n",
    "Назовите полученный датасет book_info и сохраните его в формат pickle под названием \"book_info.pkl\". Затем загрузите из этого файла датафрейм и назовите его book_info2. Удостоверьтесь, что датафреймы book_info и book_info2 идентичны.\n"
   ]
  },
  {
   "cell_type": "code",
   "execution_count": 15,
   "metadata": {},
   "outputs": [
    {
     "data": {
      "text/html": [
       "<div>\n",
       "<style scoped>\n",
       "    .dataframe tbody tr th:only-of-type {\n",
       "        vertical-align: middle;\n",
       "    }\n",
       "\n",
       "    .dataframe tbody tr th {\n",
       "        vertical-align: top;\n",
       "    }\n",
       "\n",
       "    .dataframe thead th {\n",
       "        text-align: right;\n",
       "    }\n",
       "</style>\n",
       "<table border=\"1\" class=\"dataframe\">\n",
       "  <thead>\n",
       "    <tr style=\"text-align: right;\">\n",
       "      <th></th>\n",
       "      <th>author_id</th>\n",
       "      <th>author_name</th>\n",
       "      <th>book_title</th>\n",
       "      <th>price</th>\n",
       "      <th>cover</th>\n",
       "    </tr>\n",
       "  </thead>\n",
       "  <tbody>\n",
       "    <tr>\n",
       "      <th>0</th>\n",
       "      <td>1</td>\n",
       "      <td>Тургенев</td>\n",
       "      <td>Отцы и дети</td>\n",
       "      <td>450</td>\n",
       "      <td>твердая</td>\n",
       "    </tr>\n",
       "    <tr>\n",
       "      <th>1</th>\n",
       "      <td>1</td>\n",
       "      <td>Тургенев</td>\n",
       "      <td>Рудин</td>\n",
       "      <td>300</td>\n",
       "      <td>мягкая</td>\n",
       "    </tr>\n",
       "    <tr>\n",
       "      <th>2</th>\n",
       "      <td>1</td>\n",
       "      <td>Тургенев</td>\n",
       "      <td>Дворянское гнездо</td>\n",
       "      <td>350</td>\n",
       "      <td>мягкая</td>\n",
       "    </tr>\n",
       "    <tr>\n",
       "      <th>3</th>\n",
       "      <td>2</td>\n",
       "      <td>Чехов</td>\n",
       "      <td>Толстый и тонкий</td>\n",
       "      <td>500</td>\n",
       "      <td>твердая</td>\n",
       "    </tr>\n",
       "    <tr>\n",
       "      <th>4</th>\n",
       "      <td>2</td>\n",
       "      <td>Чехов</td>\n",
       "      <td>Дама с собачкой</td>\n",
       "      <td>450</td>\n",
       "      <td>твердая</td>\n",
       "    </tr>\n",
       "    <tr>\n",
       "      <th>5</th>\n",
       "      <td>3</td>\n",
       "      <td>Островский</td>\n",
       "      <td>Гроза</td>\n",
       "      <td>370</td>\n",
       "      <td>мягкая</td>\n",
       "    </tr>\n",
       "    <tr>\n",
       "      <th>6</th>\n",
       "      <td>3</td>\n",
       "      <td>Островский</td>\n",
       "      <td>Талантф и поклонники</td>\n",
       "      <td>290</td>\n",
       "      <td>мягкая</td>\n",
       "    </tr>\n",
       "  </tbody>\n",
       "</table>\n",
       "</div>"
      ],
      "text/plain": [
       "   author_id author_name            book_title  price    cover\n",
       "0          1    Тургенев           Отцы и дети    450  твердая\n",
       "1          1    Тургенев                 Рудин    300   мягкая\n",
       "2          1    Тургенев     Дворянское гнездо    350   мягкая\n",
       "3          2       Чехов      Толстый и тонкий    500  твердая\n",
       "4          2       Чехов       Дама с собачкой    450  твердая\n",
       "5          3  Островский                 Гроза    370   мягкая\n",
       "6          3  Островский  Талантф и поклонники    290   мягкая"
      ]
     },
     "execution_count": 15,
     "metadata": {},
     "output_type": "execute_result"
    }
   ],
   "source": [
    "authors_price = authors_price.assign(cover=pd.Series(data=['твердая', 'мягкая',\n",
    "                                               'мягкая', 'твердая', \n",
    "                                               'твердая', 'мягкая', 'мягкая']))\n",
    "authors_price\n",
    "            "
   ]
  },
  {
   "cell_type": "code",
   "execution_count": 26,
   "metadata": {},
   "outputs": [],
   "source": [
    "book_info = pd.pivot_table(authors_price, values='price', \n",
    "                                          index='author_name', \n",
    "                                          columns='cover',\n",
    "                                          fill_value=0,\n",
    "                                          aggfunc=np.sum)\n"
   ]
  },
  {
   "cell_type": "code",
   "execution_count": 30,
   "metadata": {},
   "outputs": [
    {
     "name": "stdout",
     "output_type": "stream",
     "text": [
      "True\n"
     ]
    }
   ],
   "source": [
    "book_info.to_pickle('book_info.pkl')\n",
    "book_info2 = pd.read_pickle('book_info.pkl')\n",
    "print(all(book_info2 == book_info2))\n"
   ]
  },
  {
   "cell_type": "code",
   "execution_count": null,
   "metadata": {},
   "outputs": [],
   "source": []
  }
 ],
 "metadata": {
  "interpreter": {
   "hash": "67bb6b86d66c67333efadb8139fb0f18613ed2d7a1217426568a2dacff489be1"
  },
  "kernelspec": {
   "display_name": "Python 3.9.7 ('base')",
   "language": "python",
   "name": "python3"
  },
  "language_info": {
   "codemirror_mode": {
    "name": "ipython",
    "version": 3
   },
   "file_extension": ".py",
   "mimetype": "text/x-python",
   "name": "python",
   "nbconvert_exporter": "python",
   "pygments_lexer": "ipython3",
   "version": "3.9.7"
  },
  "orig_nbformat": 4
 },
 "nbformat": 4,
 "nbformat_minor": 2
}
